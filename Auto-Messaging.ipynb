{
 "cells": [
  {
   "cell_type": "code",
   "execution_count": 14,
   "metadata": {},
   "outputs": [],
   "source": [
    "import pandas as pd\n",
    "import numpy as np\n",
    "import time\n",
    "from selenium import webdriver\n",
    "from selenium.webdriver.common.keys import Keys \n",
    "from selenium.webdriver.common.action_chains import ActionChains"
   ]
  },
  {
   "cell_type": "code",
   "execution_count": 21,
   "metadata": {},
   "outputs": [],
   "source": [
    "# import phone number\n",
    "df= pd.read_csv('phone number.csv')"
   ]
  },
  {
   "cell_type": "code",
   "execution_count": null,
   "metadata": {},
   "outputs": [],
   "source": [
    "# Initializing the webdriver\n",
    "driver = webdriver.Chrome(executable_path='C:/Users/webdriver/chromedriver.exe')  \n",
    "\n",
    "# Open chrome window containing the chinese message in a text file\n",
    "driver.get('your_text_file.txt')\n",
    "\n",
    "# Open a new window to google message \n",
    "driver.execute_script(\"window.open()\")\n",
    "driver.switch_to.window(driver.window_handles[1])\n",
    "driver.get('https://messages.google.com/web/conversations')\n",
    "\n",
    "# Pause as time required to login google message\n",
    "time.sleep(30)\n",
    "\n",
    "# loop through phone number\n",
    "for number in df['number']:\n",
    "    \n",
    "    # click start chat\n",
    "    driver.find_element_by_xpath('//*[@class=\"fab link mat-focus-indicator mat-button mat-button-base ng-star-inserted\"]').click()\n",
    "    time.sleep(3)\n",
    "\n",
    "    # enter phone number and click\n",
    "    driver.find_element_by_xpath('//*[@class=\"input\"]').send_keys(number)\n",
    "    driver.find_element_by_xpath('//*[@class=\"button mat-focus-indicator mat-button mat-button-base\"]').click()\n",
    "    time.sleep(2)\n",
    "\n",
    "    # copy and paste text by switching tabs\n",
    "    driver.switch_to.window(driver.window_handles[0])\n",
    "    time.sleep(1)\n",
    "    ActionChains(driver).key_down(Keys.CONTROL).send_keys('a').key_up(Keys.CONTROL).perform()\n",
    "    ActionChains(driver).key_down(Keys.CONTROL).send_keys('c').key_up(Keys.CONTROL).perform()\n",
    "    driver.switch_to.window(driver.window_handles[1])\n",
    "\n",
    "    \n",
    "    # click text area and send message by pressing enter\n",
    "    # using enter key instead of clicking on the send button as the xpath name keep change over time\n",
    "    text = driver.find_element_by_xpath('//*[@class=\"input\"]/textarea')\n",
    "    text.send_keys(Keys.CONTROL, \"v\")\n",
    "    time.sleep(2)\n",
    "    text.send_keys(Keys.ENTER)\n",
    "\n",
    "\n",
    "\n",
    "    time.sleep(5)\n",
    "    \n",
    "\n",
    "\n",
    "driver.quit()"
   ]
  }
 ],
 "metadata": {
  "kernelspec": {
   "display_name": "Python 3",
   "language": "python",
   "name": "python3"
  },
  "language_info": {
   "codemirror_mode": {
    "name": "ipython",
    "version": 3
   },
   "file_extension": ".py",
   "mimetype": "text/x-python",
   "name": "python",
   "nbconvert_exporter": "python",
   "pygments_lexer": "ipython3",
   "version": "3.7.6"
  },
  "widgets": {
   "application/vnd.jupyter.widget-state+json": {
    "state": {},
    "version_major": 2,
    "version_minor": 0
   }
  }
 },
 "nbformat": 4,
 "nbformat_minor": 2
}
